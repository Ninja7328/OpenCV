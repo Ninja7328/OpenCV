{
  "nbformat": 4,
  "nbformat_minor": 0,
  "metadata": {
    "colab": {
      "provenance": [],
      "authorship_tag": "ABX9TyPlgW2tM0pm4PSPBp09Xj6d",
      "include_colab_link": true
    },
    "kernelspec": {
      "name": "python3",
      "display_name": "Python 3"
    },
    "language_info": {
      "name": "python"
    }
  },
  "cells": [
    {
      "cell_type": "markdown",
      "metadata": {
        "id": "view-in-github",
        "colab_type": "text"
      },
      "source": [
        "<a href=\"https://colab.research.google.com/github/Ninja7328/OpenCV/blob/main/Approach_1_Recommandation_System.ipynb\" target=\"_parent\"><img src=\"https://colab.research.google.com/assets/colab-badge.svg\" alt=\"Open In Colab\"/></a>"
      ]
    },
    {
      "cell_type": "code",
      "execution_count": 11,
      "metadata": {
        "id": "6GGQMY36ADei"
      },
      "outputs": [],
      "source": [
        "import pandas as pd\n",
        "from sklearn.metrics.pairwise import cosine_similarity"
      ]
    },
    {
      "cell_type": "code",
      "source": [
        "movies_data = {\n",
        "    'movie_id': [1,2,3,4,5],\n",
        "    'title': ['Movie A', 'Movie B', 'Movie C', 'Movie D', 'Movie E'],\n",
        "    'genres': ['Action|Adventure', 'Drama|Romance','Action|Sci-Fi','Drama|Thriller','Comedy']\n",
        "\n",
        "}"
      ],
      "metadata": {
        "id": "wwpFjFw4ANiq"
      },
      "execution_count": 12,
      "outputs": []
    },
    {
      "cell_type": "code",
      "source": [
        "ratings_data = {\n",
        "    'user_id': [1,1,2,2,3],\n",
        "    'movie_id': [1,2,3,4,5],\n",
        "    'rating': [5,4,4,3,5]\n",
        "}"
      ],
      "metadata": {
        "id": "rCawJqPyBK5b"
      },
      "execution_count": 13,
      "outputs": []
    },
    {
      "cell_type": "code",
      "source": [
        "movies_df = pd.DataFrame(movies_data)\n",
        "rating_df = pd.DataFrame(ratings_data)"
      ],
      "metadata": {
        "id": "uvOXFU8jBknb"
      },
      "execution_count": 14,
      "outputs": []
    },
    {
      "cell_type": "code",
      "source": [
        "user_movie_ratings = rating_df.pivot(index='user_id',columns='movie_id',values='rating').fillna(0)\n",
        "print(user_movie_ratings)"
      ],
      "metadata": {
        "colab": {
          "base_uri": "https://localhost:8080/"
        },
        "id": "YrDWlIUYBzbW",
        "outputId": "e6220059-9bdf-4596-ddd6-8b2b50325e70"
      },
      "execution_count": 15,
      "outputs": [
        {
          "output_type": "stream",
          "name": "stdout",
          "text": [
            "movie_id    1    2    3    4    5\n",
            "user_id                          \n",
            "1         5.0  4.0  0.0  0.0  0.0\n",
            "2         0.0  0.0  4.0  3.0  0.0\n",
            "3         0.0  0.0  0.0  0.0  5.0\n"
          ]
        }
      ]
    },
    {
      "cell_type": "code",
      "source": [
        "genres_similarity = cosine_similarity(user_movie_ratings.values.T)\n",
        "print(genres_similarity)"
      ],
      "metadata": {
        "colab": {
          "base_uri": "https://localhost:8080/"
        },
        "id": "XMx-rZISCYrs",
        "outputId": "814d9004-241e-4660-9904-92933d9c2c2c"
      },
      "execution_count": 9,
      "outputs": [
        {
          "output_type": "stream",
          "name": "stdout",
          "text": [
            "[[1. 1. 0. 0. 0.]\n",
            " [1. 1. 0. 0. 0.]\n",
            " [0. 0. 1. 1. 0.]\n",
            " [0. 0. 1. 1. 0.]\n",
            " [0. 0. 0. 0. 1.]]\n"
          ]
        }
      ]
    },
    {
      "cell_type": "code",
      "source": [
        "def get_movie_recommendations(movie_id, num_recommendations=5):\n",
        "  similar_movies = list(enumerate(genres_similarity[movie_id]))\n",
        "  sorted_similar_movies = sorted(similar_movies, key=lambda x:x[1],reverse=True)\n",
        "  recommended_movies=[]\n",
        "  for movie in sorted_similar_movies[1:num_recommendations + 1]:\n",
        "    movie_id, _ = movie\n",
        "    recommended_movies.append(movies_df.loc[movies_df['movie_id'] == movie_id,'title'].values[0])\n",
        "    return recommended_movies"
      ],
      "metadata": {
        "id": "WrK5vwZZC0lE"
      },
      "execution_count": 20,
      "outputs": []
    },
    {
      "cell_type": "code",
      "source": [
        "user_id = 1\n",
        "\n",
        "unrated_movies = [movie_id for movie_id in movies_df['movie_id'].values\n",
        "                  if movie_id not in user_movie_ratings.columns]\n",
        "\n",
        "highest_rated_movie_id = rating_df[rating_df['user_id'] == user_id]['movie_id'].iloc[0]\n",
        "recommended_movies = get_movie_recommendations(highest_rated_movie_id)\n",
        "\n",
        "print(f\"Recommended movies for user {user_id}: {recommended_movies}\")"
      ],
      "metadata": {
        "colab": {
          "base_uri": "https://localhost:8080/"
        },
        "id": "hYco8wsyEltl",
        "outputId": "cbb0a781-ecf8-40e3-b4f8-a7b708b28e45"
      },
      "execution_count": 22,
      "outputs": [
        {
          "output_type": "stream",
          "name": "stdout",
          "text": [
            "Recommended movies for user 1: ['Movie A']\n"
          ]
        }
      ]
    },
    {
      "cell_type": "code",
      "source": [],
      "metadata": {
        "id": "l4Y2TSMwF_6-"
      },
      "execution_count": null,
      "outputs": []
    }
  ]
}