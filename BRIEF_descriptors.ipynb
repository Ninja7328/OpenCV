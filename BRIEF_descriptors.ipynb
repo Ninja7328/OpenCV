{
  "nbformat": 4,
  "nbformat_minor": 0,
  "metadata": {
    "colab": {
      "provenance": [],
      "authorship_tag": "ABX9TyPanFB5XNfE32bE+JxtAzXJ",
      "include_colab_link": true
    },
    "kernelspec": {
      "name": "python3",
      "display_name": "Python 3"
    },
    "language_info": {
      "name": "python"
    }
  },
  "cells": [
    {
      "cell_type": "markdown",
      "metadata": {
        "id": "view-in-github",
        "colab_type": "text"
      },
      "source": [
        "<a href=\"https://colab.research.google.com/github/Ninja7328/OpenCV/blob/main/BRIEF_descriptors.ipynb\" target=\"_parent\"><img src=\"https://colab.research.google.com/assets/colab-badge.svg\" alt=\"Open In Colab\"/></a>"
      ]
    },
    {
      "cell_type": "code",
      "execution_count": 1,
      "metadata": {
        "id": "Z9HHXa_9DVq4"
      },
      "outputs": [],
      "source": [
        "import numpy as np\n",
        "import cv2 as cv\n",
        "from matplotlib import pyplot as plt"
      ]
    },
    {
      "cell_type": "code",
      "source": [
        "img = cv.imread('Trial.jpg',cv.IMREAD_GRAYSCALE)"
      ],
      "metadata": {
        "id": "HekSz4ucDdg_"
      },
      "execution_count": 2,
      "outputs": []
    },
    {
      "cell_type": "code",
      "source": [
        "star = cv.xfeatures2d.StarDetector_create()"
      ],
      "metadata": {
        "id": "N2B4tJdODol5"
      },
      "execution_count": 3,
      "outputs": []
    },
    {
      "cell_type": "code",
      "source": [
        "brief = cv.xfeatures2d.BriefDescriptorExtractor_create()"
      ],
      "metadata": {
        "id": "vFJY-wy_D-DV"
      },
      "execution_count": 6,
      "outputs": []
    },
    {
      "cell_type": "code",
      "source": [
        "kp=star.detect(img,None)"
      ],
      "metadata": {
        "id": "jOWrD1HlDwpy"
      },
      "execution_count": 7,
      "outputs": []
    },
    {
      "cell_type": "code",
      "source": [
        "kp,des = brief.compute(img,kp)"
      ],
      "metadata": {
        "id": "elYRWNRwD0Sf"
      },
      "execution_count": 8,
      "outputs": []
    },
    {
      "cell_type": "code",
      "source": [
        "print(brief.descriptorSize())\n",
        "print(des.shape)"
      ],
      "metadata": {
        "colab": {
          "base_uri": "https://localhost:8080/"
        },
        "id": "YkSHoI5aD4h_",
        "outputId": "3f684e85-0ecb-4f4d-b220-25ff88e66294"
      },
      "execution_count": 10,
      "outputs": [
        {
          "output_type": "stream",
          "name": "stdout",
          "text": [
            "32\n",
            "(1173, 32)\n"
          ]
        }
      ]
    },
    {
      "cell_type": "code",
      "source": [],
      "metadata": {
        "id": "hWc4tGbnEM_Y"
      },
      "execution_count": null,
      "outputs": []
    }
  ]
}