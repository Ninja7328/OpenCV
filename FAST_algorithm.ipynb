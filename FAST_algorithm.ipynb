{
  "nbformat": 4,
  "nbformat_minor": 0,
  "metadata": {
    "colab": {
      "provenance": [],
      "authorship_tag": "ABX9TyOvwJ5eQVnbD36qD7zztOp4",
      "include_colab_link": true
    },
    "kernelspec": {
      "name": "python3",
      "display_name": "Python 3"
    },
    "language_info": {
      "name": "python"
    }
  },
  "cells": [
    {
      "cell_type": "markdown",
      "metadata": {
        "id": "view-in-github",
        "colab_type": "text"
      },
      "source": [
        "<a href=\"https://colab.research.google.com/github/Ninja7328/OpenCV/blob/main/FAST_algorithm.ipynb\" target=\"_parent\"><img src=\"https://colab.research.google.com/assets/colab-badge.svg\" alt=\"Open In Colab\"/></a>"
      ]
    },
    {
      "cell_type": "code",
      "execution_count": 7,
      "metadata": {
        "id": "7or6TAXi6nzW"
      },
      "outputs": [],
      "source": [
        "import numpy as np\n",
        "import cv2 as cv\n",
        "from matplotlib import pyplot as plt\n"
      ]
    },
    {
      "cell_type": "code",
      "source": [
        "img=cv.imread('Trial.jpg',0)"
      ],
      "metadata": {
        "id": "GhO5i2H56xuM"
      },
      "execution_count": 8,
      "outputs": []
    },
    {
      "cell_type": "code",
      "source": [
        "#Initiate FAST object with default values\n",
        "fast = cv.FastFeatureDetector_create()"
      ],
      "metadata": {
        "id": "O2iOUT4B7Vx6"
      },
      "execution_count": 9,
      "outputs": []
    },
    {
      "cell_type": "code",
      "source": [
        "#find and draw the keypoints\n",
        "kp=fast.detect(img,None)"
      ],
      "metadata": {
        "id": "GIDQg9ex7caY"
      },
      "execution_count": 10,
      "outputs": []
    },
    {
      "cell_type": "code",
      "source": [
        "img2=cv.drawKeypoints(img,kp,None,color=(255,0,0))"
      ],
      "metadata": {
        "id": "MNC6wIxA7iQa"
      },
      "execution_count": 11,
      "outputs": []
    },
    {
      "cell_type": "code",
      "source": [
        "#Print all default params\n",
        "print(\"Threshold:{}\".format(fast.getThreshold()))\n",
        "print(\"nonmaxSuppression:{}\".format(fast.getNonmaxSuppression()))\n",
        "print(\"neighborhood:{}\".format(fast.getType()))\n",
        "print(\"Total Keypoints with nonmaxSuppression:{}\".format(len(kp)))"
      ],
      "metadata": {
        "colab": {
          "base_uri": "https://localhost:8080/"
        },
        "id": "psMN1ggb7pnW",
        "outputId": "7220ca6c-cf11-4176-861c-e5ee3f0b9429"
      },
      "execution_count": 12,
      "outputs": [
        {
          "output_type": "stream",
          "name": "stdout",
          "text": [
            "Threshold:10\n",
            "nonmaxSuppression:True\n",
            "neighborhood:2\n",
            "Total Keypoints with nonmaxSuppression:39021\n"
          ]
        }
      ]
    },
    {
      "cell_type": "code",
      "source": [
        "#Disable nonmaxSuppression\n",
        "fast.setNonmaxSuppression(0)\n",
        "kp=fast.detect(img,None)\n",
        "print(\"Total Keypoints without nonmaxSuppression:{}\".format(len(kp)))\n",
        "img2=cv.drawKeypoints(img,kp,None,color=(255,0,0))"
      ],
      "metadata": {
        "colab": {
          "base_uri": "https://localhost:8080/"
        },
        "id": "u-8hVX9J8JvL",
        "outputId": "75c78aaf-8ab6-44b4-f058-3bbd7a1ec560"
      },
      "execution_count": 16,
      "outputs": [
        {
          "output_type": "stream",
          "name": "stdout",
          "text": [
            "Total Keypoints without nonmaxSuppression:130855\n"
          ]
        }
      ]
    },
    {
      "cell_type": "code",
      "source": [],
      "metadata": {
        "id": "fi6NXO838psH"
      },
      "execution_count": null,
      "outputs": []
    }
  ]
}